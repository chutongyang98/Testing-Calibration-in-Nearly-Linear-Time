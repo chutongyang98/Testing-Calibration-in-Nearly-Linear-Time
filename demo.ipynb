{
 "cells": [
  {
   "cell_type": "code",
   "execution_count": 23,
   "metadata": {},
   "outputs": [],
   "source": [
    "import numpy as np\n",
    "import matplotlib.pyplot as plt\n",
    "import scipy.sparse\n",
    "import cvxpy as cp\n",
    "import relplot as rp\n",
    "import math"
   ]
  },
  {
   "cell_type": "code",
   "execution_count": 24,
   "metadata": {},
   "outputs": [],
   "source": [
    "# produce S_0, the simpliest constraints for lipschitz\n",
    "def smCE_LP(S):\n",
    "    (x_list, y_list) = S\n",
    "    indices = np.argsort(x_list)\n",
    "    x_list = x_list[indices]\n",
    "    y_list = y_list[indices]\n",
    "    A = np.diag([1]*len(x_list))\n",
    "    A = (A -np.roll(A, 1, axis = 1))[0:len(x_list)-1]\n",
    "    A = np.concatenate([A, -A])\n",
    "    b = (x_list- np.roll(x_list,1,axis=0))[1:len(x_list)]\n",
    "    b = np.concatenate([b,b])\n",
    "    c = y_list - x_list\n",
    "    return c, A, b"
   ]
  },
  {
   "cell_type": "code",
   "execution_count": 25,
   "metadata": {},
   "outputs": [],
   "source": [
    "# produce S_base constraints in paper \n",
    "def smCE_uc(S):\n",
    "    (x_list, y_list) = S\n",
    "    n = len(x_list)\n",
    "    indices = np.argsort(x_list)\n",
    "    x_list = x_list[indices]\n",
    "    y_list = y_list[indices]\n",
    "    A = np.diag([1]*len(x_list))\n",
    "    A = (A -np.roll(A, 1, axis = 1))[0:len(x_list)-1]\n",
    "    temp = np.concatenate([A, -A])\n",
    "    counter = temp.shape[0]\n",
    "    A = np.zeros((counter+ 2*2**int(np.log(n)/np.log(2))-2, n))\n",
    "    A[0:counter] = temp\n",
    "    k = int(np.log2(n-1))\n",
    "    for i in range(1, k+1):\n",
    "        for j in range(1, 2**(k - i)+1):\n",
    "            A[counter][(j-1)*2**i] = 1\n",
    "            A[counter][j*2**i] = -1\n",
    "\n",
    "            A[counter+1][(j-1)*2**i] = -1         \n",
    "            A[counter+1][j*2**i] = 1\n",
    "            counter +=2\n",
    "    b = np.abs(A@x_list)\n",
    "    c = y_list - x_list\n",
    "    return c, A, b"
   ]
  },
  {
   "cell_type": "code",
   "execution_count": 26,
   "metadata": {},
   "outputs": [],
   "source": [
    "def prepare_dataset(n, skew_function, e):\n",
    "    fa = []\n",
    "    ya = []\n",
    "    for _ in range(n):\n",
    "        f = np.random.uniform(0,1-e)\n",
    "        y = int(np.random.uniform() > 1 - skew_function(f))\n",
    "        fa.append(f)\n",
    "        ya.append(y)\n",
    "    return (np.array(fa), np.array(ya))"
   ]
  },
  {
   "cell_type": "code",
   "execution_count": 27,
   "metadata": {},
   "outputs": [
    {
     "name": "stdout",
     "output_type": "stream",
     "text": [
      "0.11340232597018096\n"
     ]
    }
   ],
   "source": [
    "S_calibrated = prepare_dataset(2**6+1, lambda x:x+0.1, 0.1)\n",
    "c,A,b = smCE_uc(S_calibrated)\n",
    "n = len(S_calibrated[0])\n",
    "x = cp.Variable(n)\n",
    "objective = cp.Minimize(np.array([c/n]) @ x +2*math.log(n)*cp.norm(cp.maximum(A @ x-b, np.zeros(len(A)) ),\"inf\"))\n",
    "constraints = [-1 <= x, x <= 1]\n",
    "prob = cp.Problem(objective, constraints)\n",
    "result = -prob.solve()\n",
    "print(result)"
   ]
  },
  {
   "cell_type": "code",
   "execution_count": 28,
   "metadata": {},
   "outputs": [],
   "source": [
    "# %%\n",
    "def ATmul(x, part = False):\n",
    "    n = len(x)\n",
    "    if part:\n",
    "        ret = np.zeros(2*(n-1) + 1) \n",
    "    else:\n",
    "        ret = np.zeros(2*(n-1) + 2*2**int(np.log2(n))-1) #should be -2 but -1 for last row with all 0\n",
    "    ret[0:(n-1)] = x[:-1] - x[1:]\n",
    "    ret[n-1:2*(n-1)] = -x[:-1] + x[1:]\n",
    "    if part:\n",
    "        return ret/2\n",
    "    k = int(np.log2(n-1))\n",
    "    counter = 2*(n-1)\n",
    "    for i in range(1, k+1):\n",
    "        indices = np.array(range(2**(k - i)+1))\n",
    "        indices = 2**i * indices\n",
    "        ret[counter: counter + (2**(k - i))] = (x[indices])[:-1] - (x[indices])[1:]\n",
    "        ret[counter+ (2**(k - i)): counter + 2*(2**(k - i))] = (-x[indices])[:-1] + (x[indices])[1:]     \n",
    "        counter += 2 * (2**(k - i))\n",
    "    return ret/2"
   ]
  },
  {
   "cell_type": "code",
   "execution_count": 29,
   "metadata": {},
   "outputs": [],
   "source": [
    "def A_absTmul(x, part = False):\n",
    "    n = len(x)\n",
    "    if part:\n",
    "        ret = np.zeros(2*(n-1) + 1) \n",
    "    else:\n",
    "        ret = np.zeros(2*(n-1) + 2*2**int(np.log2(n))-1) #should be -2 but -1 for last row with all 0\n",
    "    ret[0:(n-1)] = x[:-1] + x[1:]\n",
    "    ret[n-1:2*(n-1)] = x[:-1] + x[1:]\n",
    "    if part:\n",
    "        return ret/2\n",
    "    k = int(np.log2(n-1))\n",
    "    counter = 2*(n-1)\n",
    "    for i in range(1, k+1):\n",
    "        indices = np.array(range(2**(k - i)+1))\n",
    "        indices = 2**i * indices\n",
    "        ret[counter: counter + (2**(k - i))] = (x[indices])[:-1] + (x[indices])[1:]\n",
    "        ret[counter+ (2**(k - i)): counter + 2*(2**(k - i))] = (x[indices])[:-1] + (x[indices])[1:]     \n",
    "        counter += 2 * (2**(k - i))\n",
    "    return ret/2"
   ]
  },
  {
   "cell_type": "code",
   "execution_count": 30,
   "metadata": {},
   "outputs": [],
   "source": [
    "def Amul(y, size, part = False):\n",
    "    n = len(y)\n",
    "    ret = np.zeros(size) #should be -2 but -1 for last row with all 0\n",
    "    counter = 0\n",
    "    k = int(np.log2(size-1))\n",
    "    for i in range(k):\n",
    "        ret[0] += y[counter] - y[counter+ (2**(k - i))]\n",
    "        ret[-1] += -y[counter+ (2**(k - i))-1] + y[counter+ 2*(2**(k - i))-1]\n",
    "        indices = np.array(range(1, 2**(k - i)))\n",
    "        indices = 2**i * indices\n",
    "        ret[indices] += -(y[counter: counter + 2**(k - i)])[:-1] + (y[counter: counter + 2**(k - i)])[1:]\n",
    "        counter +=(2**(k - i))\n",
    "        ret[indices] += (y[counter: counter + 2**(k - i)])[:-1] - (y[counter: counter + 2**(k - i)])[1:]      \n",
    "        counter +=(2**(k - i))\n",
    "        if part:\n",
    "            return ret/2\n",
    "    ret[0] += y[counter] - y[counter+1]\n",
    "    ret[-1] += -y[counter] + y[counter+1] \n",
    "    return ret/2"
   ]
  },
  {
   "cell_type": "code",
   "execution_count": 31,
   "metadata": {},
   "outputs": [],
   "source": [
    "def A_absmul(y, size, part = False):\n",
    "    n = len(y)\n",
    "    ret = np.zeros(size) #should be -2 but -1 for last row with all 0\n",
    "    counter = 0\n",
    "    k = int(np.log2(size-1))\n",
    "    for i in range(k):\n",
    "        ret[0] += y[counter] + y[counter+ (2**(k - i))]\n",
    "        ret[-1] += y[counter+ (2**(k - i))-1] + y[counter+ 2*(2**(k - i))-1]\n",
    "        indices = np.array(range(1, 2**(k - i)))\n",
    "        indices = 2**i * indices\n",
    "        ret[indices] += (y[counter: counter + 2**(k - i)])[:-1] + (y[counter: counter + 2**(k - i)])[1:]\n",
    "        counter +=(2**(k - i))\n",
    "        ret[indices] += (y[counter: counter + 2**(k - i)])[:-1] + (y[counter: counter + 2**(k - i)])[1:]      \n",
    "        counter +=(2**(k - i))\n",
    "        if part:\n",
    "            return ret/2\n",
    "    ret[0] += y[counter] + y[counter+1]\n",
    "    ret[-1] += y[counter] + y[counter+1] \n",
    "    return ret/2"
   ]
  },
  {
   "cell_type": "code",
   "execution_count": 32,
   "metadata": {},
   "outputs": [],
   "source": [
    "# Our box simplex implementation with p = True for S_base and p = False for S_0\n",
    "def box_simplex(size, b, c, epsilon, p = False, f = None):\n",
    "    n = size[0]\n",
    "    L = 2\n",
    "    x = np.zeros(size[0])\n",
    "    y = np.ones(size[1]) / size[1]\n",
    "    y_bar = np.ones(size[1]) / size[1]\n",
    "    x_hat = np.zeros(size[0])\n",
    "    y_hat = np.zeros(size[1]) \n",
    "    T = int( 48*np.log(size[1]) * L / epsilon)\n",
    "    \n",
    "    #A = A / L\n",
    "    c = c / (L*np.log2(n))\n",
    "    #A_abs = np.abs(A)\n",
    "    \n",
    "    for t in range(T):\n",
    "        # Gradient oracle start\n",
    "        #g_x = (A @ y + c)/3\n",
    "        g_x = (Amul(y, n,part = p) + c)/3\n",
    "        #g_y = (b - A.T @ x)/3 \n",
    "        g_y = (b - ATmul(x,part = p))/3 \n",
    "        \n",
    "        # Step 7\n",
    "        x_star = np.clip( -(g_x - 2 * x * A_absmul(y, n, part = p)) / (2 * A_absmul(y,n,part = p)+0.000001), -1, 1)\n",
    "        \n",
    "        # Step 8\n",
    "        #y_p = y * np.exp((-1 / 2) * (g_y + A_abs.T @ (x_star**2) - A_abs.T @ (x**2)))\n",
    "        y_p = y * np.exp((-1 / 2) * (g_y + A_absTmul(x_star**2,part = p) - A_absTmul(x**2,part = p)))\n",
    "        y_p = y_p / y_p.sum()  # Ensure y_star is a probability vector\n",
    "        \n",
    "        # Step 9\n",
    "        #x_p = np.clip( - (g_x - 2 * np.diag(x)@ A_abs @ y) / (2 * A_abs @ y_p+0.000001), -1, 1)\n",
    "        x_p = np.clip( - (g_x - 2 * x* A_absmul(y, n,part = p)) / (2 * A_absmul(y_p, n,part = p)+0.000001), -1, 1)\n",
    "        \n",
    "        # Step 10: Running average maintenance\n",
    "        x_hat = x_hat  + x_p / T\n",
    "        y_hat = y_hat + y_p / T\n",
    "        \n",
    "        # Step 12: Extrapolation oracle start\n",
    "        #g_x = (A @ y_p + c)/6\n",
    "        #g_y = (b-A.T @ x_p)/6\n",
    "        g_x = (Amul(y_p, n,part = p) + c)/6\n",
    "        g_y = (b-ATmul(x_p,part = p))/6\n",
    "        \n",
    "        # Step 14\n",
    "        x_bar = np.clip( - (g_x - 2 * x * A_absmul(y,n,part = p)) / (2 * A_absmul(y_bar, n,part = p)+0.000001), -1, 1)\n",
    "        \n",
    "        # Step 15\n",
    "        previous_y = y\n",
    "        y = y_bar * np.exp((-1 / 2) * (g_y + A_absTmul(x_bar**2,part = p) + 2*(np.log(y_bar) - np.log(y)) - A_absTmul(x**2,part = p)))\n",
    "        y = y / y.sum()  # Ensure y is a probability vector\n",
    "        \n",
    "        # Step 16\n",
    "        x = np.clip( - (g_x - 2 * x * A_absmul(previous_y, n,part = p)) / (2 * A_absmul(y,n,part = p)+0.000001), -1, 1)\n",
    "        y_bar = y * np.exp((-1 / 2) * (g_y + A_absTmul(x**2,part = p) + 2*(np.log(y) - np.log(previous_y)) - A_absTmul(x**2,part = p)))\n",
    "        y_bar = y_bar / y_bar.sum()  # Ensure y is a probability vector    \n",
    "    return x_hat, y_hat"
   ]
  },
  {
   "cell_type": "code",
   "execution_count": 33,
   "metadata": {},
   "outputs": [
    {
     "name": "stdout",
     "output_type": "stream",
     "text": [
      "0.10915796143662235\n"
     ]
    }
   ],
   "source": [
    "(x_list, y_list) = S_calibrated\n",
    "n = len(x_list)\n",
    "indices = np.argsort(x_list)\n",
    "x_list = x_list[indices]\n",
    "y_list = y_list[indices]\n",
    "b_p = np.abs(ATmul(x_list))\n",
    "c_ = (y_list - x_list)/n\n",
    "\n",
    "b_p = np.abs(ATmul(x_list, part = True))\n",
    "x, y = box_simplex((n, 2*n-1), b_p, c_, 1/(math.log2(n)*n**0.5), p = True, f = None)\n",
    "print(- c_@x)"
   ]
  }
 ],
 "metadata": {
  "kernelspec": {
   "display_name": "base",
   "language": "python",
   "name": "python3"
  },
  "language_info": {
   "codemirror_mode": {
    "name": "ipython",
    "version": 3
   },
   "file_extension": ".py",
   "mimetype": "text/x-python",
   "name": "python",
   "nbconvert_exporter": "python",
   "pygments_lexer": "ipython3",
   "version": "3.7.11"
  }
 },
 "nbformat": 4,
 "nbformat_minor": 2
}
