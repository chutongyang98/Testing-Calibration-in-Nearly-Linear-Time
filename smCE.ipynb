{
 "cells": [
  {
   "cell_type": "code",
   "execution_count": 1,
   "metadata": {},
   "outputs": [],
   "source": [
    "import numpy as np\n",
    "import matplotlib.pyplot as plt\n",
    "import logging\n",
    "import scipy.optimize\n",
    "import scipy.sparse\n",
    "import cvxpy as cp\n",
    "import relplot as rp\n",
    "import math"
   ]
  },
  {
   "cell_type": "code",
   "execution_count": 15,
   "metadata": {},
   "outputs": [],
   "source": [
    "def prepare_dataset(n, skew_function, e):\n",
    "    res = []\n",
    "    fa = []\n",
    "    ya = []\n",
    "    for _ in range(n):\n",
    "        f = np.random.uniform(0,1-e)\n",
    "        y = int(np.random.uniform() > 1 - skew_function(f))\n",
    "        fa.append(f)\n",
    "        ya.append(y)\n",
    "    return (np.array(fa), np.array(ya))"
   ]
  },
  {
   "cell_type": "code",
   "execution_count": 17,
   "metadata": {},
   "outputs": [],
   "source": [
    "def smCE_LP(S):\n",
    "    (x_list, y_list) = S\n",
    "    indices = np.argsort(x_list)\n",
    "    x_list = x_list[indices]\n",
    "    y_list = y_list[indices]\n",
    "    A = np.diag([1]*len(x_list))\n",
    "    A = (A -np.roll(A, 1, axis = 1))[0:len(x_list)-1]\n",
    "    A = np.concatenate([A, -A])\n",
    "    b = (x_list- np.roll(x_list,1,axis=0))[1:len(x_list)]\n",
    "    b = np.concatenate([b,b])\n",
    "    c = y_list - x_list\n",
    "    return c, A, b"
   ]
  },
  {
   "cell_type": "code",
   "execution_count": 18,
   "metadata": {},
   "outputs": [],
   "source": [
    "def smCE_uc(S):\n",
    "    (x_list, y_list) = S\n",
    "    n = len(x_list)\n",
    "    indices = np.argsort(x_list)\n",
    "    x_list = x_list[indices]\n",
    "    y_list = y_list[indices]\n",
    "    A = np.diag([1]*len(x_list))\n",
    "    A = (A -np.roll(A, 1, axis = 1))[0:len(x_list)-1]\n",
    "    temp = np.concatenate([A, -A])\n",
    "    counter = temp.shape[0]\n",
    "    A = np.zeros((counter+ 2*2**int(np.log(n)/np.log(2))-2, n))\n",
    "    A[0:counter] = temp\n",
    "    k = int(np.log2(n-1))\n",
    "    for i in range(1, k+1):\n",
    "        for j in range(1, 2**(k - i)+1):\n",
    "            A[counter][(j-1)*2**i] = 1\n",
    "            A[counter][j*2**i] = -1\n",
    "\n",
    "            A[counter+1][(j-1)*2**i] = -1         \n",
    "            A[counter+1][j*2**i] = 1\n",
    "            counter +=2\n",
    "    b = np.abs(A@x_list)\n",
    "    c = y_list - x_list\n",
    "    return c, A, b\n",
    "\n"
   ]
  },
  {
   "cell_type": "code",
   "execution_count": 19,
   "metadata": {},
   "outputs": [],
   "source": [
    "# c, A, b = smCE_LP(S_calibrated)\n",
    "# n = len(S_calibrated[0])\n",
    "# x = cp.Variable(n)\n",
    "# objective = cp.Minimize(np.array([c/n]) @ x)\n",
    "# constraints = [-1 <= x, x <= 1, A@x <= b]\n",
    "# prob = cp.Problem(objective, constraints)\n",
    "# result = prob.solve()\n",
    "# print(-result)"
   ]
  },
  {
   "cell_type": "code",
   "execution_count": 20,
   "metadata": {},
   "outputs": [],
   "source": [
    "import warnings\n",
    "warnings.filterwarnings('ignore')"
   ]
  },
  {
   "cell_type": "code",
   "execution_count": 21,
   "metadata": {},
   "outputs": [
    {
     "name": "stdout",
     "output_type": "stream",
     "text": [
      "5\n",
      "51\n",
      "0.1\n",
      "6\n",
      "51\n",
      "0.07\n",
      "7\n",
      "51\n",
      "0.05\n",
      "8\n",
      "51\n",
      "0.03\n",
      "9\n",
      "51\n",
      "0.03\n",
      "10\n",
      "51\n",
      "0.01\n",
      "11\n",
      "51\n",
      "0.01\n"
     ]
    }
   ],
   "source": [
    "for i in range(5,12):\n",
    "    for eps in [0.1,0.07,0.05,0.03,0.01, 0.007, 0.005,0.003, 0.001]:\n",
    "        counter = 0\n",
    "        for _ in range(100):\n",
    "            S_calibrated = prepare_dataset(2**i+1, lambda x:x+0.01, 0.01)\n",
    "            c,A,b = smCE_uc(S_calibrated)\n",
    "            n = len(S_calibrated[0])\n",
    "            x = cp.Variable(n)\n",
    "            objective = cp.Minimize(np.array([c/n]) @ x +2*math.log(n)*cp.norm(cp.maximum(A @ x-b, np.zeros(len(A)) ),\"inf\"))\n",
    "            constraints = [-1 <= x, x <= 1]\n",
    "            prob = cp.Problem(objective, constraints)\n",
    "            result = -prob.solve()\n",
    "            if result >= eps/2:\n",
    "                counter+=1\n",
    "            if counter>50:\n",
    "                break\n",
    "        if counter > 50:\n",
    "            print(i)\n",
    "            print(counter)\n",
    "            print(eps)\n",
    "            break\n"
   ]
  },
  {
   "cell_type": "code",
   "execution_count": 22,
   "metadata": {},
   "outputs": [
    {
     "name": "stdout",
     "output_type": "stream",
     "text": [
      "5\n",
      "51\n",
      "0.1\n",
      "6\n",
      "51\n",
      "0.1\n",
      "7\n",
      "51\n",
      "0.1\n",
      "8\n",
      "51\n",
      "0.07\n",
      "9\n",
      "51\n",
      "0.07\n",
      "10\n",
      "51\n",
      "0.05\n",
      "11\n",
      "51\n",
      "0.03\n"
     ]
    }
   ],
   "source": [
    "for i in range(5,12):\n",
    "    for eps in [0.1,0.07,0.05,0.03,0.01, 0.007, 0.005,0.003, 0.001]:\n",
    "        counter = 0\n",
    "        for _ in range(100):\n",
    "            S_calibrated = prepare_dataset(2**i+1, lambda x:x+0.01,0.01)\n",
    "            result = rp.smECE(S_calibrated[0],S_calibrated[1]) \n",
    "            if result >= eps/2:\n",
    "                counter+=1\n",
    "            if counter>50:\n",
    "                break\n",
    "        if counter > 50:\n",
    "            print(i)\n",
    "            print(counter)\n",
    "            print(eps)\n",
    "            break"
   ]
  },
  {
   "cell_type": "code",
   "execution_count": 23,
   "metadata": {},
   "outputs": [],
   "source": [
    "def LDTC(S, eps):\n",
    "    (x_list, y_list) = S\n",
    "    n = len(x_list)\n",
    "    U = np.array(range(int(1/eps)))*eps\n",
    "    u = len(U)\n",
    "    A_1 = np.zeros((n*2,n*2*u))\n",
    "    A_2 = np.zeros((u,n*2*u))\n",
    "    for i in range(2*n):\n",
    "        for j in range(u):\n",
    "            A_1[i][j*2*n+i] = 1\n",
    "    for i in range(u):\n",
    "        A_2[i][2*i*n: (2*i+1)*n] = [-U[i]]*n\n",
    "        A_2[i][(2*i+1)*n: (2*i+2)*n] = [1-U[i]]*n \n",
    "\n",
    "    b_1 = np.zeros(2*n)\n",
    "    for i in range(n):\n",
    "        if y_list[i] == 0:\n",
    "            b_1[i] = 1/n\n",
    "        else:\n",
    "            b_1[i+n] = 1/n \n",
    "    b_2 = np.zeros(u)\n",
    "    c = np.zeros(u*n*2)\n",
    "    for i in range(u):\n",
    "        for j in range(n):\n",
    "            c[2*n*i+j] = U[i]- x_list[j]\n",
    "            c[2*n*i+j+n] = U[i]- x_list[j]\n",
    "    c = np.abs(c)\n",
    "    return A_1, A_2, b_1, b_2, c"
   ]
  },
  {
   "cell_type": "code",
   "execution_count": 27,
   "metadata": {},
   "outputs": [
    {
     "name": "stdout",
     "output_type": "stream",
     "text": [
      "5\n",
      "51\n",
      "0.05\n",
      "6\n",
      "51\n",
      "0.03\n",
      "7\n",
      "51\n",
      "0.01\n",
      "8\n",
      "51\n",
      "0.01\n"
     ]
    }
   ],
   "source": [
    "for i in range(5,9):\n",
    "    for eps in [0.1,0.07,0.05,0.03,0.01, 0.007, 0.005,0.003, 0.001]:\n",
    "        counter = 0\n",
    "        for _ in range(100):\n",
    "            S_calibrated = prepare_dataset(2**i+1, lambda x:x+0.01,0.01)\n",
    "            n = len(S_calibrated[0])\n",
    "            A_1, A_2, b_1, b_2, c = LDTC(S_calibrated, eps)\n",
    "            x = cp.Variable(n*2*int(1/eps))\n",
    "            objective = cp.Minimize(c @ x+ 4*cp.norm(A_1 @ x-b_1 ,1) + 4*cp.norm(A_2 @ x ,1))\n",
    "            constraints = [0 <= x]\n",
    "            prob = cp.Problem(objective, constraints)\n",
    "            result = prob.solve()\n",
    "            if result >= eps:\n",
    "                counter+=1\n",
    "            if counter>50:\n",
    "                break\n",
    "        if counter > 50:\n",
    "            print(i)\n",
    "            print(counter)\n",
    "            print(eps)\n",
    "            break\n",
    "\n",
    "\n",
    "\n"
   ]
  },
  {
   "cell_type": "code",
   "execution_count": 35,
   "metadata": {},
   "outputs": [
    {
     "data": {
      "image/png": "[encoded data removed]",
      "text/plain": [
       "<Figure size 576x504 with 1 Axes>"
      ]
     },
     "metadata": {
      "needs_background": "light"
     },
     "output_type": "display_data"
    }
   ],
   "source": [
    "from matplotlib.legend_handler import HandlerLine2D, HandlerTuple\n",
    "\n",
    "t = np.array([0,1,2,4,9,19,199])\n",
    "# Ens number are 2, 4, 8, 16\n",
    "\n",
    "\n",
    "smCE = np.array([0.05392731, 0.04302569, 0.03538085, 0.01867338, 0.01617483, 0.01229978,0.01100074])\n",
    "smECE =  np.array([0.09160847,0.07728072, 0.06293585, 0.04930626, 0.0382798,  0.03017715, 0.02466714])\n",
    "ldtc = np.array([0.04362023, 0.04378679,0.03450147, 0.01974462])\n",
    "\n",
    "\n",
    "plt.rcParams['font.size']=20\n",
    "plt.rcParams['legend.fontsize']=20\n",
    "fig, ax1 = plt.subplots(figsize=(8,7))\n",
    "\n",
    "# color_r = 'tab:red'\n",
    "color = 'tab:blue'\n",
    "width = 0.25\n",
    "\n",
    "\n",
    "ax1.set_xticks(np.arange(0,7)i)\n",
    "ax1.set_xticklabels([\"5\", \"6\", \"7\", \"8\", '9', '10', '11'], rotation=0)\n",
    "ax1.tick_params(axis='y')#, labelcolor=color)\n",
    "ax1.set_ylim((19.,46.))\n",
    "\n",
    "e_smCE = np.array([smCE - [0.03429807, 0.02803707, 0.01909696, 0.01220246, 0.00991716, 0.00745008, 0.00738633], \n",
    "                   [0.08650733, 0.05965444, 0.05081143, 0.03422777, 0.02340507, 0.01989094, 0.01743458]- smCE] )\n",
    "e_smECE = np.array([smECE- [0.076571, 0.06414214, 0.05409286, 0.04346742, 0.0344362,  0.02713203, 0.02218031], \n",
    "                   [0.1075522, 0.09303256, 0.07001377, 0.05500064, 0.04409024, 0.03290695, 0.02731003]-smECE] ) \n",
    "e_ldtc = np.array([ldtc-[0.03187139, 0.0313958, 0.02055663, 0.01184783], \n",
    "                   [0.06479745,0.06912442, 0.0445265, 0.03299556]-ldtc])\n",
    "\n",
    "color_r = 'tab:red'\n",
    "color_o = 'tab:orange'\n",
    "color_p = 'tab:purple'\n",
    "\n",
    "\n",
    "n_1, = ax1.plot(np.arange(0,4)-0.15, ldtc, 'o--', color=color_p, alpha = 0.8, label='LDTC', linewidth=3)\n",
    "plt.errorbar(np.arange(0,4)-0.15, ldtc, e_ldtc, fmt='o', color=color_p, alpha = 0.8,  capsize=6, linewidth=3)\n",
    "\n",
    "n_2, = ax1.plot(np.arange(0,7), smCE, 'o--', color=color_o, alpha = 0.5, label='smCE', linewidth=3)\n",
    "plt.errorbar(np.arange(0,7), smCE, e_smCE, fmt='o', color=color_o,alpha = 0.5,  capsize=6, linewidth=3)\n",
    "\n",
    "n_3, = ax1.plot(np.arange(0,7)+0.15, smECE, 'o--', color=color_r, alpha = 0.8,label='ConvECE', linewidth=3)\n",
    "plt.errorbar(np.arange(0,7)+0.15, smECE, e_smECE, fmt='o', color=color_r,alpha = 0.8, capsize=6, linewidth=3)\n",
    "\n",
    "\n",
    "ax1.tick_params(axis='y')#, labelcolor=color_r)\n",
    "ax1.set_ylim((0, 0.12))\n",
    "ax1.legend([(n_3), (n_2), (n_1)], ['ConvECE', 'smCE', 'LDTC'], numpoints=1,\n",
    "          handler_map={tuple:HandlerTuple(ndivide=None)}, loc=1,  bbox_to_anchor=(1, 1))\n",
    "\n",
    "ax1.grid(linestyle='--', linewidth=1)\n",
    "fig.tight_layout()  # otherwise the right y-label is slightly clipped\n",
    "\n",
    "plt.show()\n",
    "\n",
    "\n"
   ]
  }
 ],
 "metadata": {
  "kernelspec": {
   "display_name": "base",
   "language": "python",
   "name": "python3"
  },
  "language_info": {
   "codemirror_mode": {
    "name": "ipython",
    "version": 3
   },
   "file_extension": ".py",
   "mimetype": "text/x-python",
   "name": "python",
   "nbconvert_exporter": "python",
   "pygments_lexer": "ipython3",
   "version": "3.7.11"
  }
 },
 "nbformat": 4,
 "nbformat_minor": 2
}
